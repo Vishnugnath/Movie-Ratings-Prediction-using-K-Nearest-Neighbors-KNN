{
 "cells": [
  {
   "cell_type": "markdown",
   "id": "a0516981-cde5-4b75-b0d4-7120018bbbc2",
   "metadata": {},
   "source": [
    "# Movie Ratings Prediction using K-Nearest Neighbors (KNN)"
   ]
  },
  {
   "cell_type": "code",
   "execution_count": null,
   "id": "dd6e3a98-d3f7-4832-8f45-dad8ba30049b",
   "metadata": {},
   "outputs": [],
   "source": []
  },
  {
   "cell_type": "code",
   "execution_count": 2,
   "id": "2d5a1067-40de-4400-adbd-bcbd58af6b30",
   "metadata": {},
   "outputs": [],
   "source": [
    "#Import Necessary Libraries\n",
    "\n",
    "import pandas as pd\n",
    "import numpy as np\n",
    "import seaborn as sns\n",
    "import matplotlib.pyplot as plt\n",
    "from sklearn.model_selection import train_test_split, GridSearchCV\n",
    "from sklearn.tree import DecisionTreeClassifier\n",
    "from sklearn.metrics import accuracy_score, roc_auc_score, classification_report, confusion_matrix\n",
    "import warnings\n",
    "warnings.filterwarnings('ignore')\n",
    "\n",
    "# Set visualizations\n",
    "sns.set(style=\"whitegrid\")"
   ]
  },
  {
   "cell_type": "code",
   "execution_count": null,
   "id": "50fe9e36-c2c3-4a08-9210-15cbf3ef1ac7",
   "metadata": {},
   "outputs": [],
   "source": []
  },
  {
   "cell_type": "code",
   "execution_count": 6,
   "id": "9034b513-e8d4-4be9-83a7-1484b76e9846",
   "metadata": {},
   "outputs": [
    {
     "name": "stdout",
     "output_type": "stream",
     "text": [
      "Links DataFrame:\n",
      "   movieId  imdbId   tmdbId\n",
      "0        1  114709    862.0\n",
      "1        2  113497   8844.0\n",
      "2        3  113228  15602.0\n",
      "3        4  114885  31357.0\n",
      "4        5  113041  11862.0\n",
      "\n",
      "Movies DataFrame:\n",
      "   movieId                               title  \\\n",
      "0        1                    Toy Story (1995)   \n",
      "1        2                      Jumanji (1995)   \n",
      "2        3             Grumpier Old Men (1995)   \n",
      "3        4            Waiting to Exhale (1995)   \n",
      "4        5  Father of the Bride Part II (1995)   \n",
      "\n",
      "                                        genres  \n",
      "0  Adventure|Animation|Children|Comedy|Fantasy  \n",
      "1                   Adventure|Children|Fantasy  \n",
      "2                               Comedy|Romance  \n",
      "3                         Comedy|Drama|Romance  \n",
      "4                                       Comedy  \n",
      "\n",
      "Ratings DataFrame:\n",
      "   userId  movieId  rating  timestamp\n",
      "0       1        1     4.0  964982703\n",
      "1       1        3     4.0  964981247\n",
      "2       1        6     4.0  964982224\n",
      "3       1       47     5.0  964983815\n",
      "4       1       50     5.0  964982931\n",
      "\n",
      "Tags DataFrame:\n",
      "   userId  movieId              tag   timestamp\n",
      "0       2    60756            funny  1445714994\n",
      "1       2    60756  Highly quotable  1445714996\n",
      "2       2    60756     will ferrell  1445714992\n",
      "3       2    89774     Boxing story  1445715207\n",
      "4       2    89774              MMA  1445715200\n"
     ]
    }
   ],
   "source": [
    "# Load datasets\n",
    "df_links = pd.read_csv(r'C:\\Users\\Vishnu\\Downloads\\KNN\\links.csv')\n",
    "df_movies = pd.read_csv(r'C:\\Users\\Vishnu\\Downloads\\KNN\\movies.csv')\n",
    "df_ratings = pd.read_csv(r'C:\\Users\\Vishnu\\Downloads\\KNN\\ratings.csv')\n",
    "df_tags = pd.read_csv(r'C:\\Users\\Vishnu\\Downloads\\KNN\\tags.csv')\n",
    "\n",
    "# Display the first few rows of each dataframe\n",
    "print(\"Links DataFrame:\")\n",
    "print(df_links.head())\n",
    "print(\"\\nMovies DataFrame:\")\n",
    "print(df_movies.head())\n",
    "print(\"\\nRatings DataFrame:\")\n",
    "print(df_ratings.head())\n",
    "print(\"\\nTags DataFrame:\")\n",
    "print(df_tags.head())"
   ]
  },
  {
   "cell_type": "code",
   "execution_count": null,
   "id": "64330720-5004-413b-95b4-ef26669d0ae1",
   "metadata": {},
   "outputs": [],
   "source": []
  },
  {
   "cell_type": "code",
   "execution_count": 8,
   "id": "4dbd0c3f-5330-4209-a0ca-85c8ac1f7b84",
   "metadata": {},
   "outputs": [
    {
     "name": "stdout",
     "output_type": "stream",
     "text": [
      "\n",
      "Merged DataFrame:\n",
      "   userId  movieId  rating  timestamp_x             title  \\\n",
      "0       1        1     4.0    964982703  Toy Story (1995)   \n",
      "1       5        1     4.0    847434962  Toy Story (1995)   \n",
      "2       7        1     4.5   1106635946  Toy Story (1995)   \n",
      "3      15        1     2.5   1510577970  Toy Story (1995)   \n",
      "4      17        1     4.5   1305696483  Toy Story (1995)   \n",
      "\n",
      "                                        genres  tag  timestamp_y  \n",
      "0  Adventure|Animation|Children|Comedy|Fantasy  NaN          NaN  \n",
      "1  Adventure|Animation|Children|Comedy|Fantasy  NaN          NaN  \n",
      "2  Adventure|Animation|Children|Comedy|Fantasy  NaN          NaN  \n",
      "3  Adventure|Animation|Children|Comedy|Fantasy  NaN          NaN  \n",
      "4  Adventure|Animation|Children|Comedy|Fantasy  NaN          NaN  \n"
     ]
    }
   ],
   "source": [
    "# Merge ratings with movies\n",
    "df_merged = pd.merge(df_ratings, df_movies, on='movieId')\n",
    "\n",
    "# Merge tags with the already merged DataFrame\n",
    "df_merged = pd.merge(df_merged, df_tags, on=['userId', 'movieId'], how='left')\n",
    "\n",
    "# Display the merged DataFrame\n",
    "print(\"\\nMerged DataFrame:\")\n",
    "print(df_merged.head())\n"
   ]
  },
  {
   "cell_type": "code",
   "execution_count": null,
   "id": "b6de32b4-868f-4be0-8cc1-e164345f88be",
   "metadata": {},
   "outputs": [],
   "source": []
  },
  {
   "cell_type": "code",
   "execution_count": 10,
   "id": "5ff36617-2eb2-48e7-9f42-0bd9c02bc252",
   "metadata": {},
   "outputs": [
    {
     "name": "stdout",
     "output_type": "stream",
     "text": [
      "\n",
      "Missing Values:\n",
      "userId             0\n",
      "movieId            0\n",
      "rating             0\n",
      "timestamp_x        0\n",
      "title              0\n",
      "genres             0\n",
      "tag            99201\n",
      "timestamp_y    99201\n",
      "dtype: int64\n",
      "\n",
      "Cleaned DataFrame:\n",
      "   userId  movieId             title  \\\n",
      "0       1        1  Toy Story (1995)   \n",
      "1       5        1  Toy Story (1995)   \n",
      "2       7        1  Toy Story (1995)   \n",
      "3      15        1  Toy Story (1995)   \n",
      "4      17        1  Toy Story (1995)   \n",
      "\n",
      "                                        genres  rating  \\\n",
      "0  Adventure|Animation|Children|Comedy|Fantasy     4.0   \n",
      "1  Adventure|Animation|Children|Comedy|Fantasy     4.0   \n",
      "2  Adventure|Animation|Children|Comedy|Fantasy     4.5   \n",
      "3  Adventure|Animation|Children|Comedy|Fantasy     2.5   \n",
      "4  Adventure|Animation|Children|Comedy|Fantasy     4.5   \n",
      "\n",
      "                                       tags_combined  \n",
      "0                                                ...  \n",
      "1                                                ...  \n",
      "2                                                ...  \n",
      "3                                                ...  \n",
      "4                                                ...  \n"
     ]
    }
   ],
   "source": [
    "# Check for missing values\n",
    "print(\"\\nMissing Values:\")\n",
    "print(df_merged.isnull().sum())\n",
    "\n",
    "# Fill missing tags with an empty string\n",
    "df_merged['tag'].fillna('', inplace=True)\n",
    "\n",
    "# Optional: Create a new column combining tags (if needed for KNN)\n",
    "df_merged['tags_combined'] = df_merged.groupby('movieId')['tag'].transform(lambda x: ' '.join(x))\n",
    "\n",
    "# Drop unnecessary columns\n",
    "df_cleaned = df_merged[['userId', 'movieId', 'title', 'genres', 'rating', 'tags_combined']]\n",
    "\n",
    "# Display the cleaned DataFrame\n",
    "print(\"\\nCleaned DataFrame:\")\n",
    "print(df_cleaned.head())\n"
   ]
  },
  {
   "cell_type": "code",
   "execution_count": null,
   "id": "91fa9370-7105-48fa-9a9a-c0d0c6515513",
   "metadata": {},
   "outputs": [],
   "source": []
  },
  {
   "cell_type": "code",
   "execution_count": 12,
   "id": "788b5cc1-3b73-4f98-8242-fb8bc209d298",
   "metadata": {},
   "outputs": [
    {
     "name": "stdout",
     "output_type": "stream",
     "text": [
      "\n",
      "Feature Matrix Shape: (102677, 1728)\n",
      "Target Variable Shape: (102677,)\n"
     ]
    }
   ],
   "source": [
    "#feature engineering\n",
    "from sklearn.feature_extraction.text import TfidfVectorizer\n",
    "from sklearn.preprocessing import MultiLabelBinarizer\n",
    "\n",
    "# TF-IDF for tags\n",
    "tfidf_vectorizer = TfidfVectorizer()\n",
    "tfidf_matrix = tfidf_vectorizer.fit_transform(df_cleaned['tags_combined'])\n",
    "\n",
    "# One-hot encoding for genres\n",
    "mlb = MultiLabelBinarizer()\n",
    "genres_encoded = mlb.fit_transform(df_cleaned['genres'].str.split('|'))\n",
    "\n",
    "# Combine the TF-IDF matrix and genres\n",
    "import numpy as np\n",
    "X = np.hstack((tfidf_matrix.toarray(), genres_encoded))\n",
    "\n",
    "# Target variable (ratings)\n",
    "y = df_cleaned['rating'].values\n",
    "\n",
    "# Display the feature matrix and target\n",
    "print(\"\\nFeature Matrix Shape:\", X.shape)\n",
    "print(\"Target Variable Shape:\", y.shape)\n"
   ]
  },
  {
   "cell_type": "code",
   "execution_count": null,
   "id": "faf0bb7c-0fee-4512-99d0-e555fe9f617a",
   "metadata": {},
   "outputs": [],
   "source": []
  },
  {
   "cell_type": "code",
   "execution_count": 14,
   "id": "05c1e69d-5b08-4253-b1ed-311f814a5e2b",
   "metadata": {},
   "outputs": [
    {
     "name": "stdout",
     "output_type": "stream",
     "text": [
      "\n",
      "Mean Squared Error: 1.0908010323334634\n"
     ]
    }
   ],
   "source": [
    "#KNN Model Training\n",
    "from sklearn.model_selection import train_test_split\n",
    "from sklearn.neighbors import KNeighborsRegressor\n",
    "from sklearn.metrics import mean_squared_error\n",
    "\n",
    "# Split the data into training and testing sets\n",
    "X_train, X_test, y_train, y_test = train_test_split(X, y, test_size=0.2, random_state=42)\n",
    "\n",
    "# Initialize KNN model\n",
    "knn_model = KNeighborsRegressor(n_neighbors=5)\n",
    "\n",
    "# Fit the model\n",
    "knn_model.fit(X_train, y_train)\n",
    "\n",
    "# Predict on the test set\n",
    "y_pred = knn_model.predict(X_test)\n",
    "\n",
    "# Evaluate the model\n",
    "mse = mean_squared_error(y_test, y_pred)\n",
    "print(\"\\nMean Squared Error:\", mse)\n"
   ]
  },
  {
   "cell_type": "code",
   "execution_count": null,
   "id": "1efd7574-3865-41b6-9beb-7f0e16d19be5",
   "metadata": {},
   "outputs": [],
   "source": []
  },
  {
   "cell_type": "code",
   "execution_count": 16,
   "id": "49d73958-be65-436e-b1ce-e7c03552a689",
   "metadata": {},
   "outputs": [
    {
     "name": "stdout",
     "output_type": "stream",
     "text": [
      "Predicted Rating: 2.9\n"
     ]
    }
   ],
   "source": [
    "# Sample movie information for prediction\n",
    "new_movie_info = {\n",
    "    'title': 'Sample Movie',\n",
    "    'genres': 'Action|Adventure',\n",
    "    'tags': 'exciting|thrilling|fun'\n",
    "}\n",
    "\n",
    "# Function to preprocess input data\n",
    "def preprocess_input(movie_info):\n",
    "    # Create a DataFrame\n",
    "    input_df = pd.DataFrame([movie_info])\n",
    "    \n",
    "    # Process the genres\n",
    "    input_df['genres'] = input_df['genres'].str.split('|')\n",
    "    genres_encoded = mlb.transform(input_df['genres'])\n",
    "    \n",
    "    # Process the tags using TF-IDF\n",
    "    input_df['tags_combined'] = input_df['tags']\n",
    "    tfidf_input = tfidf_vectorizer.transform(input_df['tags_combined'])\n",
    "    \n",
    "    # Combine the TF-IDF matrix and one-hot encoded genres\n",
    "    input_features = np.hstack((tfidf_input.toarray(), genres_encoded))\n",
    "    \n",
    "    return input_features\n",
    "\n",
    "# Preprocess the new input\n",
    "new_input_features = preprocess_input(new_movie_info)\n",
    "\n",
    "# Predict the rating for the new movie\n",
    "predicted_rating = knn_model.predict(new_input_features)\n",
    "\n",
    "# Display the predicted rating\n",
    "print(\"Predicted Rating:\", predicted_rating[0])"
   ]
  }
 ],
 "metadata": {
  "kernelspec": {
   "display_name": "Python 3 (ipykernel)",
   "language": "python",
   "name": "python3"
  },
  "language_info": {
   "codemirror_mode": {
    "name": "ipython",
    "version": 3
   },
   "file_extension": ".py",
   "mimetype": "text/x-python",
   "name": "python",
   "nbconvert_exporter": "python",
   "pygments_lexer": "ipython3",
   "version": "3.11.7"
  }
 },
 "nbformat": 4,
 "nbformat_minor": 5
}
